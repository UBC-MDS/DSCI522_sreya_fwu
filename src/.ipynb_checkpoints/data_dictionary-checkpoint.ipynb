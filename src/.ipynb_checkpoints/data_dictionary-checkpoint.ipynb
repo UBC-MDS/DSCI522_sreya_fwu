{
 "cells": [
  {
   "cell_type": "markdown",
   "metadata": {},
   "source": [
    "## Data dictionary\n",
    "\n",
    "| Column name | datatype | Description |\n",
    "| --- | -- | -- |\n",
    "| ID | Numeric | Identifier for a particular case of crime |\n",
    "| Case Number | String | Case number with the police | \n",
    "| Date | Date | Date and time at which the crime occured | \n",
    "| Block | String | Block where the crime occured | \n",
    "| IUCR | Numeric | Illinois Uniform Crime Reporting |\n",
    "| Primary Type | String | Type of crime |\n",
    "| Description | String | Description of the crime |\n",
    "| Location Description | String | Location of the crime |\n",
    "| Arrest | Boolean | Whether an arrest was made | \n",
    "| Domestic | Boolean | Whether it is a domestic violence case | \n",
    "| Beat | Numeric | -- | \n",
    "| District | Numeric | Disrict where the crime occured | \n",
    "| Ward | Numeric | Ward where the crime occured | \n",
    "| Community Area | Numeric | Community area where the crime occured |\n",
    "| FBI Code | Numeric | FBI code for the crime |\n",
    "| X Coordinate | Numeric | Loaction co-ordinates of the crime |\n",
    "| Y Coordinate | Numeric | Loaction co-ordinates of the crime |\n",
    "| Year | Numeric | Year when the crime occured | \n",
    "| Updated On | Date | Time and date when the investigation for the crime was updated | \n",
    "| Latitude | Numeric | Loaction co-ordinates of the crime | \n",
    "| Longitude | Numeric | Loaction co-ordinates of the crime |\n",
    "| Location | String | Location of the crime |\n"
   ]
  },
  {
   "cell_type": "code",
   "execution_count": null,
   "metadata": {},
   "outputs": [],
   "source": []
  }
 ],
 "metadata": {
  "kernelspec": {
   "display_name": "R",
   "language": "R",
   "name": "ir"
  },
  "language_info": {
   "codemirror_mode": "r",
   "file_extension": ".r",
   "mimetype": "text/x-r-source",
   "name": "R",
   "pygments_lexer": "r",
   "version": "3.5.0"
  }
 },
 "nbformat": 4,
 "nbformat_minor": 2
}
