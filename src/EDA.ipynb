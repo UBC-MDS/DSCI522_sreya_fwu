{
 "cells": [
  {
   "cell_type": "markdown",
   "metadata": {},
   "source": [
    "# Exploratory Data Analysis"
   ]
  },
  {
   "cell_type": "markdown",
   "metadata": {},
   "source": [
    "### Dependencies"
   ]
  },
  {
   "cell_type": "code",
   "execution_count": 1,
   "metadata": {},
   "outputs": [
    {
     "name": "stderr",
     "output_type": "stream",
     "text": [
      "\n",
      "Attaching package: 'dplyr'\n",
      "\n",
      "The following objects are masked from 'package:stats':\n",
      "\n",
      "    filter, lag\n",
      "\n",
      "The following objects are masked from 'package:base':\n",
      "\n",
      "    intersect, setdiff, setequal, union\n",
      "\n"
     ]
    }
   ],
   "source": [
    "library(dplyr)\n",
    "#install.packages(\"ggplot2\")\n",
    "library(ggplot2)\n",
    "library(tidyr)\n",
    "library(forcats)"
   ]
  },
  {
   "cell_type": "code",
   "execution_count": 1,
   "metadata": {},
   "outputs": [],
   "source": [
    "args <- commandArgs(trailingOnly = TRUE)\n",
    "input_file <- args[1]"
   ]
  },
  {
   "cell_type": "markdown",
   "metadata": {},
   "source": [
    "### Clean Data Load"
   ]
  },
  {
   "cell_type": "code",
   "execution_count": 2,
   "metadata": {},
   "outputs": [
    {
     "data": {
      "text/html": [
       "<table>\n",
       "<thead><tr><th scope=col>Unnamed..0</th><th scope=col>X</th><th scope=col>ID</th><th scope=col>Case.Number</th><th scope=col>Date</th><th scope=col>Block</th><th scope=col>IUCR</th><th scope=col>Primary.Type</th><th scope=col>Description</th><th scope=col>Location.Description</th><th scope=col>...</th><th scope=col>FBI.Code</th><th scope=col>X.Coordinate</th><th scope=col>Y.Coordinate</th><th scope=col>Year</th><th scope=col>Updated.On</th><th scope=col>Latitude</th><th scope=col>Longitude</th><th scope=col>Location</th><th scope=col>Crime_Date</th><th scope=col>Crime_Time</th></tr></thead>\n",
       "<tbody>\n",
       "\t<tr><td> 1                                 </td><td>   3                               </td><td>10508693                           </td><td>HZ250496                           </td><td>2016-05-03 23:40:00                </td><td>013XX S SAWYER AVE                 </td><td>0486                               </td><td>SEXUAL ASSAULT                     </td><td>DOMESTIC BATTERY SIMPLE            </td><td>APARTMENT                          </td><td>...                                </td><td>08B                                </td><td>1154907                            </td><td>1893681                            </td><td>2016                               </td><td>05/10/2016 03:56:50 PM             </td><td>41.86407                           </td><td>-87.70682                          </td><td>(41.864073157, -87.706818608)      </td><td>2016-05-03                         </td><td>23:40:00                           </td></tr>\n",
       "\t<tr><td> 2                                 </td><td>  89                               </td><td>10508695                           </td><td>HZ250409                           </td><td>2016-05-03 21:40:00                </td><td>061XX S DREXEL AVE                 </td><td>0486                               </td><td>SEXUAL ASSAULT                     </td><td>DOMESTIC BATTERY SIMPLE            </td><td>RESIDENCE                          </td><td>...                                </td><td>08B                                </td><td>1183066                            </td><td>1864330                            </td><td>2016                               </td><td>05/10/2016 03:56:50 PM             </td><td>41.78292                           </td><td>-87.60436                          </td><td>(41.782921527, -87.60436317)       </td><td>2016-05-03                         </td><td>21:40:00                           </td></tr>\n",
       "\t<tr><td> 3                                 </td><td> 197                               </td><td>10508697                           </td><td>HZ250503                           </td><td>2016-05-03 23:31:00                </td><td>053XX W CHICAGO AVE                </td><td>0470                               </td><td>PUBLIC INDECENCY                   </td><td>RECKLESS CONDUCT                   </td><td>STREET                             </td><td>...                                </td><td>24                                 </td><td>1140789                            </td><td>1904819                            </td><td>2016                               </td><td>05/10/2016 03:56:50 PM             </td><td>41.89491                           </td><td>-87.75837                          </td><td>(41.894908283, -87.758371958)      </td><td>2016-05-03                         </td><td>23:31:00                           </td></tr>\n",
       "\t<tr><td> 4                                 </td><td> 673                               </td><td>10508698                           </td><td>HZ250424                           </td><td>2016-05-03 22:10:00                </td><td>049XX W FULTON ST                  </td><td>0460                               </td><td>SEXUAL ASSAULT                     </td><td>SIMPLE                             </td><td>SIDEWALK                           </td><td>...                                </td><td>08B                                </td><td>1143223                            </td><td>1901475                            </td><td>2016                               </td><td>05/10/2016 03:56:50 PM             </td><td>41.88569                           </td><td>-87.74952                          </td><td>(41.885686845, -87.749515983)      </td><td>2016-05-03                         </td><td>22:10:00                           </td></tr>\n",
       "\t<tr><td> 5                                 </td><td> 911                               </td><td>10508699                           </td><td>HZ250455                           </td><td>2016-05-03 22:00:00                </td><td>003XX N LOTUS AVE                  </td><td>0820                               </td><td>THEFT                              </td><td>$500 AND UNDER                     </td><td>RESIDENCE                          </td><td>...                                </td><td>06                                 </td><td>1139890                            </td><td>1901675                            </td><td>2016                               </td><td>05/10/2016 03:56:50 PM             </td><td>41.88630                           </td><td>-87.76175                          </td><td>(41.886297242, -87.761750709)      </td><td>2016-05-03                         </td><td>22:00:00                           </td></tr>\n",
       "\t<tr><td> 6                                 </td><td>1108                               </td><td>10508702                           </td><td>HZ250447                           </td><td>2016-05-03 22:35:00                </td><td>082XX S MARYLAND AVE               </td><td>041A                               </td><td>SEXUAL ASSAULT                     </td><td>AGGRAVATED: HANDGUN                </td><td>STREET                             </td><td>...                                </td><td>04B                                </td><td>1183336                            </td><td>1850642                            </td><td>2016                               </td><td>05/10/2016 03:56:50 PM             </td><td>41.74535                           </td><td>-87.60380                          </td><td>(41.745354023, -87.603798903)      </td><td>2016-05-03                         </td><td>22:35:00                           </td></tr>\n",
       "\t<tr><td> 7                                 </td><td>1130                               </td><td>10508703                           </td><td>HZ250489                           </td><td>2016-05-03 22:30:00                </td><td>027XX S STATE ST                   </td><td>0460                               </td><td>SEXUAL ASSAULT                     </td><td>SIMPLE                             </td><td>CHA HALLWAY/STAIRWELL/ELEVATOR     </td><td>...                                </td><td>08B                                </td><td>1176730                            </td><td>1886544                            </td><td>2016                               </td><td>05/10/2016 03:56:50 PM             </td><td>41.84402                           </td><td>-87.62692                          </td><td>(41.844023772, -87.626923253)      </td><td>2016-05-03                         </td><td>22:30:00                           </td></tr>\n",
       "\t<tr><td> 8                                 </td><td>1801                               </td><td>10508704                           </td><td>HZ250514                           </td><td>2016-05-03 21:30:00                </td><td>002XX E 46TH ST                    </td><td>0460                               </td><td>SEXUAL ASSAULT                     </td><td>SIMPLE                             </td><td>RESIDENCE PORCH/HALLWAY            </td><td>...                                </td><td>08B                                </td><td>1178514                            </td><td>1874573                            </td><td>2016                               </td><td>05/10/2016 03:56:50 PM             </td><td>41.81113                           </td><td>-87.62074                          </td><td>(41.811133958, -87.62074077)       </td><td>2016-05-03                         </td><td>21:30:00                           </td></tr>\n",
       "\t<tr><td> 9                                 </td><td>1868                               </td><td>10508709                           </td><td>HZ250523                           </td><td>2016-05-03 16:00:00                </td><td>014XX W DEVON AVE                  </td><td>0460                               </td><td>SEXUAL ASSAULT                     </td><td>SIMPLE                             </td><td>SIDEWALK                           </td><td>...                                </td><td>08B                                </td><td>1165696                            </td><td>1942616                            </td><td>2016                               </td><td>05/10/2016 03:56:50 PM             </td><td>41.99813                           </td><td>-87.66581                          </td><td>(41.99813061, -87.665814038)       </td><td>2016-05-03                         </td><td>16:00:00                           </td></tr>\n",
       "\t<tr><td>10                                 </td><td>1891                               </td><td>10508982                           </td><td>HZ250667                           </td><td>2016-05-03 22:30:00                </td><td>069XX S ASHLAND AVE                </td><td>0486                               </td><td>SEXUAL ASSAULT                     </td><td>DOMESTIC BATTERY SIMPLE            </td><td>STREET                             </td><td>...                                </td><td>08B                                </td><td>1166876                            </td><td>1858796                            </td><td>2016                               </td><td>05/10/2016 03:56:50 PM             </td><td>41.76810                           </td><td>-87.66388                          </td><td>(41.768096835, -87.663878589)      </td><td>2016-05-03                         </td><td>22:30:00                           </td></tr>\n",
       "\t<tr><td>11                                 </td><td>1935                               </td><td>10508710                           </td><td>HZ250469                           </td><td>2016-05-03 21:44:00                </td><td>074XX S SOUTH SHORE DR             </td><td>143A                               </td><td>WEAPONS VIOLATION                  </td><td>UNLAWFUL POSS OF HANDGUN           </td><td>VEHICLE NON-COMMERCIAL             </td><td>...                                </td><td>15                                 </td><td>1195696                            </td><td>1856719                            </td><td>2016                               </td><td>05/10/2016 03:56:50 PM             </td><td>41.76173                           </td><td>-87.55831                          </td><td>(41.761733286, -87.558309979)      </td><td>2016-05-03                         </td><td>21:44:00                           </td></tr>\n",
       "\t<tr><td>12                                 </td><td>2150                               </td><td>10508715                           </td><td>HZ250541                           </td><td>2016-05-03 23:11:00                </td><td>006XX N WABASH AVE                 </td><td>0486                               </td><td>SEXUAL ASSAULT                     </td><td>DOMESTIC BATTERY SIMPLE            </td><td>SIDEWALK                           </td><td>...                                </td><td>08B                                </td><td>1176630                            </td><td>1904401                            </td><td>2016                               </td><td>05/10/2016 03:56:50 PM             </td><td>41.89303                           </td><td>-87.62675                          </td><td>(41.893026751, -87.626750829)      </td><td>2016-05-03                         </td><td>23:11:00                           </td></tr>\n",
       "\t<tr><td>13                                 </td><td>2193                               </td><td>10508717                           </td><td>HZ250415                           </td><td>2016-05-03 17:30:00                </td><td>011XX W JACKSON BLVD               </td><td>0890                               </td><td>THEFT                              </td><td>FROM BUILDING                      </td><td>OTHER                              </td><td>...                                </td><td>06                                 </td><td>1168776                            </td><td>1898793                            </td><td>2016                               </td><td>05/10/2016 03:56:50 PM             </td><td>41.87781                           </td><td>-87.65576                          </td><td>(41.877811861, -87.655758012)      </td><td>2016-05-03                         </td><td>17:30:00                           </td></tr>\n",
       "\t<tr><td>14                                 </td><td>2279                               </td><td>10508724                           </td><td>HZ250513                           </td><td>2016-05-03 09:00:00                </td><td>028XX S DR MARTIN LUTHER KING JR DR</td><td>0820                               </td><td>THEFT                              </td><td>$500 AND UNDER                     </td><td>STREET                             </td><td>...                                </td><td>06                                 </td><td>1179375                            </td><td>1886199                            </td><td>2016                               </td><td>05/10/2016 03:56:50 PM             </td><td>41.84302                           </td><td>-87.61723                          </td><td>(41.843016958, -87.61722727)       </td><td>2016-05-03                         </td><td>09:00:00                           </td></tr>\n",
       "\t<tr><td>15                                 </td><td>2477                               </td><td>10508728                           </td><td>HZ250505                           </td><td>2016-05-03 22:08:00                </td><td>016XX N CLAREMONT AVE              </td><td>0810                               </td><td>THEFT                              </td><td>OVER $500                          </td><td>STREET                             </td><td>...                                </td><td>06                                 </td><td>1160444                            </td><td>1910787                            </td><td>2016                               </td><td>05/10/2016 03:56:50 PM             </td><td>41.91090                           </td><td>-87.68602                          </td><td>(41.910900826, -87.686018747)      </td><td>2016-05-03                         </td><td>22:08:00                           </td></tr>\n",
       "</tbody>\n",
       "</table>\n"
      ],
      "text/latex": [
       "\\begin{tabular}{r|llllllllllllllllllllllllll}\n",
       " Unnamed..0 & X & ID & Case.Number & Date & Block & IUCR & Primary.Type & Description & Location.Description & ... & FBI.Code & X.Coordinate & Y.Coordinate & Year & Updated.On & Latitude & Longitude & Location & Crime\\_Date & Crime\\_Time\\\\\n",
       "\\hline\n",
       "\t  1                                  &    3                                & 10508693                            & HZ250496                            & 2016-05-03 23:40:00                 & 013XX S SAWYER AVE                  & 0486                                & SEXUAL ASSAULT                      & DOMESTIC BATTERY SIMPLE             & APARTMENT                           & ...                                 & 08B                                 & 1154907                             & 1893681                             & 2016                                & 05/10/2016 03:56:50 PM              & 41.86407                            & -87.70682                           & (41.864073157, -87.706818608)       & 2016-05-03                          & 23:40:00                           \\\\\n",
       "\t  2                                  &   89                                & 10508695                            & HZ250409                            & 2016-05-03 21:40:00                 & 061XX S DREXEL AVE                  & 0486                                & SEXUAL ASSAULT                      & DOMESTIC BATTERY SIMPLE             & RESIDENCE                           & ...                                 & 08B                                 & 1183066                             & 1864330                             & 2016                                & 05/10/2016 03:56:50 PM              & 41.78292                            & -87.60436                           & (41.782921527, -87.60436317)        & 2016-05-03                          & 21:40:00                           \\\\\n",
       "\t  3                                  &  197                                & 10508697                            & HZ250503                            & 2016-05-03 23:31:00                 & 053XX W CHICAGO AVE                 & 0470                                & PUBLIC INDECENCY                    & RECKLESS CONDUCT                    & STREET                              & ...                                 & 24                                  & 1140789                             & 1904819                             & 2016                                & 05/10/2016 03:56:50 PM              & 41.89491                            & -87.75837                           & (41.894908283, -87.758371958)       & 2016-05-03                          & 23:31:00                           \\\\\n",
       "\t  4                                  &  673                                & 10508698                            & HZ250424                            & 2016-05-03 22:10:00                 & 049XX W FULTON ST                   & 0460                                & SEXUAL ASSAULT                      & SIMPLE                              & SIDEWALK                            & ...                                 & 08B                                 & 1143223                             & 1901475                             & 2016                                & 05/10/2016 03:56:50 PM              & 41.88569                            & -87.74952                           & (41.885686845, -87.749515983)       & 2016-05-03                          & 22:10:00                           \\\\\n",
       "\t  5                                  &  911                                & 10508699                            & HZ250455                            & 2016-05-03 22:00:00                 & 003XX N LOTUS AVE                   & 0820                                & THEFT                               & \\$500 AND UNDER                    & RESIDENCE                           & ...                                 & 06                                  & 1139890                             & 1901675                             & 2016                                & 05/10/2016 03:56:50 PM              & 41.88630                            & -87.76175                           & (41.886297242, -87.761750709)       & 2016-05-03                          & 22:00:00                           \\\\\n",
       "\t  6                                  & 1108                                & 10508702                            & HZ250447                            & 2016-05-03 22:35:00                 & 082XX S MARYLAND AVE                & 041A                                & SEXUAL ASSAULT                      & AGGRAVATED: HANDGUN                 & STREET                              & ...                                 & 04B                                 & 1183336                             & 1850642                             & 2016                                & 05/10/2016 03:56:50 PM              & 41.74535                            & -87.60380                           & (41.745354023, -87.603798903)       & 2016-05-03                          & 22:35:00                           \\\\\n",
       "\t  7                                  & 1130                                & 10508703                            & HZ250489                            & 2016-05-03 22:30:00                 & 027XX S STATE ST                    & 0460                                & SEXUAL ASSAULT                      & SIMPLE                              & CHA HALLWAY/STAIRWELL/ELEVATOR      & ...                                 & 08B                                 & 1176730                             & 1886544                             & 2016                                & 05/10/2016 03:56:50 PM              & 41.84402                            & -87.62692                           & (41.844023772, -87.626923253)       & 2016-05-03                          & 22:30:00                           \\\\\n",
       "\t  8                                  & 1801                                & 10508704                            & HZ250514                            & 2016-05-03 21:30:00                 & 002XX E 46TH ST                     & 0460                                & SEXUAL ASSAULT                      & SIMPLE                              & RESIDENCE PORCH/HALLWAY             & ...                                 & 08B                                 & 1178514                             & 1874573                             & 2016                                & 05/10/2016 03:56:50 PM              & 41.81113                            & -87.62074                           & (41.811133958, -87.62074077)        & 2016-05-03                          & 21:30:00                           \\\\\n",
       "\t  9                                  & 1868                                & 10508709                            & HZ250523                            & 2016-05-03 16:00:00                 & 014XX W DEVON AVE                   & 0460                                & SEXUAL ASSAULT                      & SIMPLE                              & SIDEWALK                            & ...                                 & 08B                                 & 1165696                             & 1942616                             & 2016                                & 05/10/2016 03:56:50 PM              & 41.99813                            & -87.66581                           & (41.99813061, -87.665814038)        & 2016-05-03                          & 16:00:00                           \\\\\n",
       "\t 10                                  & 1891                                & 10508982                            & HZ250667                            & 2016-05-03 22:30:00                 & 069XX S ASHLAND AVE                 & 0486                                & SEXUAL ASSAULT                      & DOMESTIC BATTERY SIMPLE             & STREET                              & ...                                 & 08B                                 & 1166876                             & 1858796                             & 2016                                & 05/10/2016 03:56:50 PM              & 41.76810                            & -87.66388                           & (41.768096835, -87.663878589)       & 2016-05-03                          & 22:30:00                           \\\\\n",
       "\t 11                                  & 1935                                & 10508710                            & HZ250469                            & 2016-05-03 21:44:00                 & 074XX S SOUTH SHORE DR              & 143A                                & WEAPONS VIOLATION                   & UNLAWFUL POSS OF HANDGUN            & VEHICLE NON-COMMERCIAL              & ...                                 & 15                                  & 1195696                             & 1856719                             & 2016                                & 05/10/2016 03:56:50 PM              & 41.76173                            & -87.55831                           & (41.761733286, -87.558309979)       & 2016-05-03                          & 21:44:00                           \\\\\n",
       "\t 12                                  & 2150                                & 10508715                            & HZ250541                            & 2016-05-03 23:11:00                 & 006XX N WABASH AVE                  & 0486                                & SEXUAL ASSAULT                      & DOMESTIC BATTERY SIMPLE             & SIDEWALK                            & ...                                 & 08B                                 & 1176630                             & 1904401                             & 2016                                & 05/10/2016 03:56:50 PM              & 41.89303                            & -87.62675                           & (41.893026751, -87.626750829)       & 2016-05-03                          & 23:11:00                           \\\\\n",
       "\t 13                                  & 2193                                & 10508717                            & HZ250415                            & 2016-05-03 17:30:00                 & 011XX W JACKSON BLVD                & 0890                                & THEFT                               & FROM BUILDING                       & OTHER                               & ...                                 & 06                                  & 1168776                             & 1898793                             & 2016                                & 05/10/2016 03:56:50 PM              & 41.87781                            & -87.65576                           & (41.877811861, -87.655758012)       & 2016-05-03                          & 17:30:00                           \\\\\n",
       "\t 14                                  & 2279                                & 10508724                            & HZ250513                            & 2016-05-03 09:00:00                 & 028XX S DR MARTIN LUTHER KING JR DR & 0820                                & THEFT                               & \\$500 AND UNDER                    & STREET                              & ...                                 & 06                                  & 1179375                             & 1886199                             & 2016                                & 05/10/2016 03:56:50 PM              & 41.84302                            & -87.61723                           & (41.843016958, -87.61722727)        & 2016-05-03                          & 09:00:00                           \\\\\n",
       "\t 15                                  & 2477                                & 10508728                            & HZ250505                            & 2016-05-03 22:08:00                 & 016XX N CLAREMONT AVE               & 0810                                & THEFT                               & OVER \\$500                         & STREET                              & ...                                 & 06                                  & 1160444                             & 1910787                             & 2016                                & 05/10/2016 03:56:50 PM              & 41.91090                            & -87.68602                           & (41.910900826, -87.686018747)       & 2016-05-03                          & 22:08:00                           \\\\\n",
       "\\end{tabular}\n"
      ],
      "text/markdown": [
       "\n",
       "Unnamed..0 | X | ID | Case.Number | Date | Block | IUCR | Primary.Type | Description | Location.Description | ... | FBI.Code | X.Coordinate | Y.Coordinate | Year | Updated.On | Latitude | Longitude | Location | Crime_Date | Crime_Time | \n",
       "|---|---|---|---|---|---|---|---|---|---|---|---|---|---|---|\n",
       "|  1                                  |    3                                | 10508693                            | HZ250496                            | 2016-05-03 23:40:00                 | 013XX S SAWYER AVE                  | 0486                                | SEXUAL ASSAULT                      | DOMESTIC BATTERY SIMPLE             | APARTMENT                           | ...                                 | 08B                                 | 1154907                             | 1893681                             | 2016                                | 05/10/2016 03:56:50 PM              | 41.86407                            | -87.70682                           | (41.864073157, -87.706818608)       | 2016-05-03                          | 23:40:00                            | \n",
       "|  2                                  |   89                                | 10508695                            | HZ250409                            | 2016-05-03 21:40:00                 | 061XX S DREXEL AVE                  | 0486                                | SEXUAL ASSAULT                      | DOMESTIC BATTERY SIMPLE             | RESIDENCE                           | ...                                 | 08B                                 | 1183066                             | 1864330                             | 2016                                | 05/10/2016 03:56:50 PM              | 41.78292                            | -87.60436                           | (41.782921527, -87.60436317)        | 2016-05-03                          | 21:40:00                            | \n",
       "|  3                                  |  197                                | 10508697                            | HZ250503                            | 2016-05-03 23:31:00                 | 053XX W CHICAGO AVE                 | 0470                                | PUBLIC INDECENCY                    | RECKLESS CONDUCT                    | STREET                              | ...                                 | 24                                  | 1140789                             | 1904819                             | 2016                                | 05/10/2016 03:56:50 PM              | 41.89491                            | -87.75837                           | (41.894908283, -87.758371958)       | 2016-05-03                          | 23:31:00                            | \n",
       "|  4                                  |  673                                | 10508698                            | HZ250424                            | 2016-05-03 22:10:00                 | 049XX W FULTON ST                   | 0460                                | SEXUAL ASSAULT                      | SIMPLE                              | SIDEWALK                            | ...                                 | 08B                                 | 1143223                             | 1901475                             | 2016                                | 05/10/2016 03:56:50 PM              | 41.88569                            | -87.74952                           | (41.885686845, -87.749515983)       | 2016-05-03                          | 22:10:00                            | \n",
       "|  5                                  |  911                                | 10508699                            | HZ250455                            | 2016-05-03 22:00:00                 | 003XX N LOTUS AVE                   | 0820                                | THEFT                               | $500 AND UNDER                      | RESIDENCE                           | ...                                 | 06                                  | 1139890                             | 1901675                             | 2016                                | 05/10/2016 03:56:50 PM              | 41.88630                            | -87.76175                           | (41.886297242, -87.761750709)       | 2016-05-03                          | 22:00:00                            | \n",
       "|  6                                  | 1108                                | 10508702                            | HZ250447                            | 2016-05-03 22:35:00                 | 082XX S MARYLAND AVE                | 041A                                | SEXUAL ASSAULT                      | AGGRAVATED: HANDGUN                 | STREET                              | ...                                 | 04B                                 | 1183336                             | 1850642                             | 2016                                | 05/10/2016 03:56:50 PM              | 41.74535                            | -87.60380                           | (41.745354023, -87.603798903)       | 2016-05-03                          | 22:35:00                            | \n",
       "|  7                                  | 1130                                | 10508703                            | HZ250489                            | 2016-05-03 22:30:00                 | 027XX S STATE ST                    | 0460                                | SEXUAL ASSAULT                      | SIMPLE                              | CHA HALLWAY/STAIRWELL/ELEVATOR      | ...                                 | 08B                                 | 1176730                             | 1886544                             | 2016                                | 05/10/2016 03:56:50 PM              | 41.84402                            | -87.62692                           | (41.844023772, -87.626923253)       | 2016-05-03                          | 22:30:00                            | \n",
       "|  8                                  | 1801                                | 10508704                            | HZ250514                            | 2016-05-03 21:30:00                 | 002XX E 46TH ST                     | 0460                                | SEXUAL ASSAULT                      | SIMPLE                              | RESIDENCE PORCH/HALLWAY             | ...                                 | 08B                                 | 1178514                             | 1874573                             | 2016                                | 05/10/2016 03:56:50 PM              | 41.81113                            | -87.62074                           | (41.811133958, -87.62074077)        | 2016-05-03                          | 21:30:00                            | \n",
       "|  9                                  | 1868                                | 10508709                            | HZ250523                            | 2016-05-03 16:00:00                 | 014XX W DEVON AVE                   | 0460                                | SEXUAL ASSAULT                      | SIMPLE                              | SIDEWALK                            | ...                                 | 08B                                 | 1165696                             | 1942616                             | 2016                                | 05/10/2016 03:56:50 PM              | 41.99813                            | -87.66581                           | (41.99813061, -87.665814038)        | 2016-05-03                          | 16:00:00                            | \n",
       "| 10                                  | 1891                                | 10508982                            | HZ250667                            | 2016-05-03 22:30:00                 | 069XX S ASHLAND AVE                 | 0486                                | SEXUAL ASSAULT                      | DOMESTIC BATTERY SIMPLE             | STREET                              | ...                                 | 08B                                 | 1166876                             | 1858796                             | 2016                                | 05/10/2016 03:56:50 PM              | 41.76810                            | -87.66388                           | (41.768096835, -87.663878589)       | 2016-05-03                          | 22:30:00                            | \n",
       "| 11                                  | 1935                                | 10508710                            | HZ250469                            | 2016-05-03 21:44:00                 | 074XX S SOUTH SHORE DR              | 143A                                | WEAPONS VIOLATION                   | UNLAWFUL POSS OF HANDGUN            | VEHICLE NON-COMMERCIAL              | ...                                 | 15                                  | 1195696                             | 1856719                             | 2016                                | 05/10/2016 03:56:50 PM              | 41.76173                            | -87.55831                           | (41.761733286, -87.558309979)       | 2016-05-03                          | 21:44:00                            | \n",
       "| 12                                  | 2150                                | 10508715                            | HZ250541                            | 2016-05-03 23:11:00                 | 006XX N WABASH AVE                  | 0486                                | SEXUAL ASSAULT                      | DOMESTIC BATTERY SIMPLE             | SIDEWALK                            | ...                                 | 08B                                 | 1176630                             | 1904401                             | 2016                                | 05/10/2016 03:56:50 PM              | 41.89303                            | -87.62675                           | (41.893026751, -87.626750829)       | 2016-05-03                          | 23:11:00                            | \n",
       "| 13                                  | 2193                                | 10508717                            | HZ250415                            | 2016-05-03 17:30:00                 | 011XX W JACKSON BLVD                | 0890                                | THEFT                               | FROM BUILDING                       | OTHER                               | ...                                 | 06                                  | 1168776                             | 1898793                             | 2016                                | 05/10/2016 03:56:50 PM              | 41.87781                            | -87.65576                           | (41.877811861, -87.655758012)       | 2016-05-03                          | 17:30:00                            | \n",
       "| 14                                  | 2279                                | 10508724                            | HZ250513                            | 2016-05-03 09:00:00                 | 028XX S DR MARTIN LUTHER KING JR DR | 0820                                | THEFT                               | $500 AND UNDER                      | STREET                              | ...                                 | 06                                  | 1179375                             | 1886199                             | 2016                                | 05/10/2016 03:56:50 PM              | 41.84302                            | -87.61723                           | (41.843016958, -87.61722727)        | 2016-05-03                          | 09:00:00                            | \n",
       "| 15                                  | 2477                                | 10508728                            | HZ250505                            | 2016-05-03 22:08:00                 | 016XX N CLAREMONT AVE               | 0810                                | THEFT                               | OVER $500                           | STREET                              | ...                                 | 06                                  | 1160444                             | 1910787                             | 2016                                | 05/10/2016 03:56:50 PM              | 41.91090                            | -87.68602                           | (41.910900826, -87.686018747)       | 2016-05-03                          | 22:08:00                            | \n",
       "\n",
       "\n"
      ],
      "text/plain": [
       "   Unnamed..0 X    ID       Case.Number Date               \n",
       "1   1            3 10508693 HZ250496    2016-05-03 23:40:00\n",
       "2   2           89 10508695 HZ250409    2016-05-03 21:40:00\n",
       "3   3          197 10508697 HZ250503    2016-05-03 23:31:00\n",
       "4   4          673 10508698 HZ250424    2016-05-03 22:10:00\n",
       "5   5          911 10508699 HZ250455    2016-05-03 22:00:00\n",
       "6   6         1108 10508702 HZ250447    2016-05-03 22:35:00\n",
       "7   7         1130 10508703 HZ250489    2016-05-03 22:30:00\n",
       "8   8         1801 10508704 HZ250514    2016-05-03 21:30:00\n",
       "9   9         1868 10508709 HZ250523    2016-05-03 16:00:00\n",
       "10 10         1891 10508982 HZ250667    2016-05-03 22:30:00\n",
       "11 11         1935 10508710 HZ250469    2016-05-03 21:44:00\n",
       "12 12         2150 10508715 HZ250541    2016-05-03 23:11:00\n",
       "13 13         2193 10508717 HZ250415    2016-05-03 17:30:00\n",
       "14 14         2279 10508724 HZ250513    2016-05-03 09:00:00\n",
       "15 15         2477 10508728 HZ250505    2016-05-03 22:08:00\n",
       "   Block                               IUCR Primary.Type     \n",
       "1  013XX S SAWYER AVE                  0486 SEXUAL ASSAULT   \n",
       "2  061XX S DREXEL AVE                  0486 SEXUAL ASSAULT   \n",
       "3  053XX W CHICAGO AVE                 0470 PUBLIC INDECENCY \n",
       "4  049XX W FULTON ST                   0460 SEXUAL ASSAULT   \n",
       "5  003XX N LOTUS AVE                   0820 THEFT            \n",
       "6  082XX S MARYLAND AVE                041A SEXUAL ASSAULT   \n",
       "7  027XX S STATE ST                    0460 SEXUAL ASSAULT   \n",
       "8  002XX E 46TH ST                     0460 SEXUAL ASSAULT   \n",
       "9  014XX W DEVON AVE                   0460 SEXUAL ASSAULT   \n",
       "10 069XX S ASHLAND AVE                 0486 SEXUAL ASSAULT   \n",
       "11 074XX S SOUTH SHORE DR              143A WEAPONS VIOLATION\n",
       "12 006XX N WABASH AVE                  0486 SEXUAL ASSAULT   \n",
       "13 011XX W JACKSON BLVD                0890 THEFT            \n",
       "14 028XX S DR MARTIN LUTHER KING JR DR 0820 THEFT            \n",
       "15 016XX N CLAREMONT AVE               0810 THEFT            \n",
       "   Description              Location.Description           ... FBI.Code\n",
       "1  DOMESTIC BATTERY SIMPLE  APARTMENT                      ... 08B     \n",
       "2  DOMESTIC BATTERY SIMPLE  RESIDENCE                      ... 08B     \n",
       "3  RECKLESS CONDUCT         STREET                         ... 24      \n",
       "4  SIMPLE                   SIDEWALK                       ... 08B     \n",
       "5  $500 AND UNDER           RESIDENCE                      ... 06      \n",
       "6  AGGRAVATED: HANDGUN      STREET                         ... 04B     \n",
       "7  SIMPLE                   CHA HALLWAY/STAIRWELL/ELEVATOR ... 08B     \n",
       "8  SIMPLE                   RESIDENCE PORCH/HALLWAY        ... 08B     \n",
       "9  SIMPLE                   SIDEWALK                       ... 08B     \n",
       "10 DOMESTIC BATTERY SIMPLE  STREET                         ... 08B     \n",
       "11 UNLAWFUL POSS OF HANDGUN VEHICLE NON-COMMERCIAL         ... 15      \n",
       "12 DOMESTIC BATTERY SIMPLE  SIDEWALK                       ... 08B     \n",
       "13 FROM BUILDING            OTHER                          ... 06      \n",
       "14 $500 AND UNDER           STREET                         ... 06      \n",
       "15 OVER $500                STREET                         ... 06      \n",
       "   X.Coordinate Y.Coordinate Year Updated.On             Latitude Longitude\n",
       "1  1154907      1893681      2016 05/10/2016 03:56:50 PM 41.86407 -87.70682\n",
       "2  1183066      1864330      2016 05/10/2016 03:56:50 PM 41.78292 -87.60436\n",
       "3  1140789      1904819      2016 05/10/2016 03:56:50 PM 41.89491 -87.75837\n",
       "4  1143223      1901475      2016 05/10/2016 03:56:50 PM 41.88569 -87.74952\n",
       "5  1139890      1901675      2016 05/10/2016 03:56:50 PM 41.88630 -87.76175\n",
       "6  1183336      1850642      2016 05/10/2016 03:56:50 PM 41.74535 -87.60380\n",
       "7  1176730      1886544      2016 05/10/2016 03:56:50 PM 41.84402 -87.62692\n",
       "8  1178514      1874573      2016 05/10/2016 03:56:50 PM 41.81113 -87.62074\n",
       "9  1165696      1942616      2016 05/10/2016 03:56:50 PM 41.99813 -87.66581\n",
       "10 1166876      1858796      2016 05/10/2016 03:56:50 PM 41.76810 -87.66388\n",
       "11 1195696      1856719      2016 05/10/2016 03:56:50 PM 41.76173 -87.55831\n",
       "12 1176630      1904401      2016 05/10/2016 03:56:50 PM 41.89303 -87.62675\n",
       "13 1168776      1898793      2016 05/10/2016 03:56:50 PM 41.87781 -87.65576\n",
       "14 1179375      1886199      2016 05/10/2016 03:56:50 PM 41.84302 -87.61723\n",
       "15 1160444      1910787      2016 05/10/2016 03:56:50 PM 41.91090 -87.68602\n",
       "   Location                      Crime_Date Crime_Time\n",
       "1  (41.864073157, -87.706818608) 2016-05-03 23:40:00  \n",
       "2  (41.782921527, -87.60436317)  2016-05-03 21:40:00  \n",
       "3  (41.894908283, -87.758371958) 2016-05-03 23:31:00  \n",
       "4  (41.885686845, -87.749515983) 2016-05-03 22:10:00  \n",
       "5  (41.886297242, -87.761750709) 2016-05-03 22:00:00  \n",
       "6  (41.745354023, -87.603798903) 2016-05-03 22:35:00  \n",
       "7  (41.844023772, -87.626923253) 2016-05-03 22:30:00  \n",
       "8  (41.811133958, -87.62074077)  2016-05-03 21:30:00  \n",
       "9  (41.99813061, -87.665814038)  2016-05-03 16:00:00  \n",
       "10 (41.768096835, -87.663878589) 2016-05-03 22:30:00  \n",
       "11 (41.761733286, -87.558309979) 2016-05-03 21:44:00  \n",
       "12 (41.893026751, -87.626750829) 2016-05-03 23:11:00  \n",
       "13 (41.877811861, -87.655758012) 2016-05-03 17:30:00  \n",
       "14 (41.843016958, -87.61722727)  2016-05-03 09:00:00  \n",
       "15 (41.910900826, -87.686018747) 2016-05-03 22:08:00  "
      ]
     },
     "metadata": {},
     "output_type": "display_data"
    }
   ],
   "source": [
    "# reading the data from \"../data/crime_1617_clean_data.csv\"\n",
    "crime <- read.csv(\"../data/crime_1617_clean_data.csv\")\n",
    "crime %>% \n",
    "  head(15)"
   ]
  },
  {
   "cell_type": "markdown",
   "metadata": {},
   "source": [
    "### Analysing the crimes in 2016 and 2017"
   ]
  },
  {
   "cell_type": "code",
   "execution_count": 18,
   "metadata": {},
   "outputs": [
    {
     "data": {
      "text/html": [
       "<table>\n",
       "<thead><tr><th scope=col>Primary.Type</th><th scope=col>counts</th></tr></thead>\n",
       "<tbody>\n",
       "\t<tr><td>THEFT                           </td><td>94556                           </td></tr>\n",
       "\t<tr><td>SEXUAL ASSAULT                  </td><td>50723                           </td></tr>\n",
       "\t<tr><td>ARSON                           </td><td>30693                           </td></tr>\n",
       "\t<tr><td>ASSAULT                         </td><td>18199                           </td></tr>\n",
       "\t<tr><td>OTHER OFFENSE                   </td><td>15910                           </td></tr>\n",
       "\t<tr><td>DECETIVE PRACTICE               </td><td>13511                           </td></tr>\n",
       "\t<tr><td>NARCOTICS                       </td><td>10668                           </td></tr>\n",
       "\t<tr><td>CRIMINAL TRESPASS               </td><td> 6209                           </td></tr>\n",
       "\t<tr><td>WEAPONS VIOLATION               </td><td> 3433                           </td></tr>\n",
       "\t<tr><td>OFFENSE INVOLVING CHILDREN      </td><td> 1953                           </td></tr>\n",
       "\t<tr><td>PUBLIC INDECENCY                </td><td> 1589                           </td></tr>\n",
       "\t<tr><td>INTERFERENCE WITH PUBLIC OFFICER</td><td>  926                           </td></tr>\n",
       "\t<tr><td>PROSTITUTION                    </td><td>  780                           </td></tr>\n",
       "\t<tr><td>HOMICIDE                        </td><td>  779                           </td></tr>\n",
       "\t<tr><td>LIQUOR LAW VIOLATION            </td><td>  210                           </td></tr>\n",
       "\t<tr><td>KIDNAPPING                      </td><td>  193                           </td></tr>\n",
       "\t<tr><td>GAMBLING                        </td><td>  188                           </td></tr>\n",
       "\t<tr><td>STALKING                        </td><td>  188                           </td></tr>\n",
       "\t<tr><td>NON-CRIMINAL                    </td><td>   47                           </td></tr>\n",
       "\t<tr><td>HUMAN TRAFFICKING               </td><td>    7                           </td></tr>\n",
       "</tbody>\n",
       "</table>\n"
      ],
      "text/latex": [
       "\\begin{tabular}{r|ll}\n",
       " Primary.Type & counts\\\\\n",
       "\\hline\n",
       "\t THEFT                            & 94556                           \\\\\n",
       "\t SEXUAL ASSAULT                   & 50723                           \\\\\n",
       "\t ARSON                            & 30693                           \\\\\n",
       "\t ASSAULT                          & 18199                           \\\\\n",
       "\t OTHER OFFENSE                    & 15910                           \\\\\n",
       "\t DECETIVE PRACTICE                & 13511                           \\\\\n",
       "\t NARCOTICS                        & 10668                           \\\\\n",
       "\t CRIMINAL TRESPASS                &  6209                           \\\\\n",
       "\t WEAPONS VIOLATION                &  3433                           \\\\\n",
       "\t OFFENSE INVOLVING CHILDREN       &  1953                           \\\\\n",
       "\t PUBLIC INDECENCY                 &  1589                           \\\\\n",
       "\t INTERFERENCE WITH PUBLIC OFFICER &   926                           \\\\\n",
       "\t PROSTITUTION                     &   780                           \\\\\n",
       "\t HOMICIDE                         &   779                           \\\\\n",
       "\t LIQUOR LAW VIOLATION             &   210                           \\\\\n",
       "\t KIDNAPPING                       &   193                           \\\\\n",
       "\t GAMBLING                         &   188                           \\\\\n",
       "\t STALKING                         &   188                           \\\\\n",
       "\t NON-CRIMINAL                     &    47                           \\\\\n",
       "\t HUMAN TRAFFICKING                &     7                           \\\\\n",
       "\\end{tabular}\n"
      ],
      "text/markdown": [
       "\n",
       "Primary.Type | counts | \n",
       "|---|---|---|---|---|---|---|---|---|---|---|---|---|---|---|---|---|---|---|---|\n",
       "| THEFT                            | 94556                            | \n",
       "| SEXUAL ASSAULT                   | 50723                            | \n",
       "| ARSON                            | 30693                            | \n",
       "| ASSAULT                          | 18199                            | \n",
       "| OTHER OFFENSE                    | 15910                            | \n",
       "| DECETIVE PRACTICE                | 13511                            | \n",
       "| NARCOTICS                        | 10668                            | \n",
       "| CRIMINAL TRESPASS                |  6209                            | \n",
       "| WEAPONS VIOLATION                |  3433                            | \n",
       "| OFFENSE INVOLVING CHILDREN       |  1953                            | \n",
       "| PUBLIC INDECENCY                 |  1589                            | \n",
       "| INTERFERENCE WITH PUBLIC OFFICER |   926                            | \n",
       "| PROSTITUTION                     |   780                            | \n",
       "| HOMICIDE                         |   779                            | \n",
       "| LIQUOR LAW VIOLATION             |   210                            | \n",
       "| KIDNAPPING                       |   193                            | \n",
       "| GAMBLING                         |   188                            | \n",
       "| STALKING                         |   188                            | \n",
       "| NON-CRIMINAL                     |    47                            | \n",
       "| HUMAN TRAFFICKING                |     7                            | \n",
       "\n",
       "\n"
      ],
      "text/plain": [
       "   Primary.Type                     counts\n",
       "1  THEFT                            94556 \n",
       "2  SEXUAL ASSAULT                   50723 \n",
       "3  ARSON                            30693 \n",
       "4  ASSAULT                          18199 \n",
       "5  OTHER OFFENSE                    15910 \n",
       "6  DECETIVE PRACTICE                13511 \n",
       "7  NARCOTICS                        10668 \n",
       "8  CRIMINAL TRESPASS                 6209 \n",
       "9  WEAPONS VIOLATION                 3433 \n",
       "10 OFFENSE INVOLVING CHILDREN        1953 \n",
       "11 PUBLIC INDECENCY                  1589 \n",
       "12 INTERFERENCE WITH PUBLIC OFFICER   926 \n",
       "13 PROSTITUTION                       780 \n",
       "14 HOMICIDE                           779 \n",
       "15 LIQUOR LAW VIOLATION               210 \n",
       "16 KIDNAPPING                         193 \n",
       "17 GAMBLING                           188 \n",
       "18 STALKING                           188 \n",
       "19 NON-CRIMINAL                        47 \n",
       "20 HUMAN TRAFFICKING                    7 "
      ]
     },
     "metadata": {},
     "output_type": "display_data"
    },
    {
     "data": {},
     "metadata": {},
     "output_type": "display_data"
    },
    {
     "data": {
      "image/png": "[encoded data removed]",
      "text/plain": [
       "plot without title"
      ]
     },
     "metadata": {},
     "output_type": "display_data"
    }
   ],
   "source": [
    "(crime_count <- crime %>% \n",
    "  group_by(Primary.Type) %>% \n",
    "  summarise(counts=n()) %>%\n",
    "  arrange(desc(counts)) )\n",
    "\n",
    "#(crime_co_plot <- crime_count %>% \n",
    "#  head(10))\n",
    "\n",
    "options(repr.plot.width = 7, repr.plot.height = 6)\n",
    "\n",
    "crime_count %>% \n",
    "  mutate(Primary.Type = fct_reorder(Primary.Type, counts)) %>% \n",
    "  ggplot(aes(x=Primary.Type, y=counts)) +\n",
    "  geom_bar(stat=\"identity\", fill=\"#800000\") +\n",
    "  theme_bw() +\n",
    "  guides(fill=FALSE) +\n",
    "  labs(title=\"Top crimes in 2016-2017\", x=\"Type of Crime\", y=\"Count\") +\n",
    "  theme(axis.line = element_line(colour = \"black\"),\n",
    "    panel.grid.major = element_blank(),\n",
    "    panel.grid.minor = element_blank(),\n",
    "    panel.border = element_blank(),\n",
    "    panel.background = element_blank()) +\n",
    "  theme(axis.text.x=element_text(angle=90,hjust=1)) "
   ]
  },
  {
   "cell_type": "markdown",
   "metadata": {},
   "source": [
    "### Analysing the location of the crimes in 2016 and 2017 "
   ]
  },
  {
   "cell_type": "code",
   "execution_count": 22,
   "metadata": {},
   "outputs": [
    {
     "data": {
      "text/html": [
       "<table>\n",
       "<thead><tr><th scope=col>Location.Description</th><th scope=col>counts</th></tr></thead>\n",
       "<tbody>\n",
       "\t<tr><td>STREET                        </td><td>59363                         </td></tr>\n",
       "\t<tr><td>RESIDENCE                     </td><td>40786                         </td></tr>\n",
       "\t<tr><td>APARTMENT                     </td><td>31787                         </td></tr>\n",
       "\t<tr><td>SIDEWALK                      </td><td>22413                         </td></tr>\n",
       "\t<tr><td>OTHER                         </td><td> 9950                         </td></tr>\n",
       "\t<tr><td>PARKING LOT/GARAGE(NON.RESID.)</td><td> 7840                         </td></tr>\n",
       "\t<tr><td>SMALL RETAIL STORE            </td><td> 5631                         </td></tr>\n",
       "\t<tr><td>RESTAURANT                    </td><td> 5411                         </td></tr>\n",
       "\t<tr><td>RESIDENTIAL YARD (FRONT/BACK) </td><td> 5397                         </td></tr>\n",
       "\t<tr><td>ALLEY                         </td><td> 5130                         </td></tr>\n",
       "\t<tr><td>RESIDENCE-GARAGE              </td><td> 5031                         </td></tr>\n",
       "\t<tr><td>RESIDENCE PORCH/HALLWAY       </td><td> 4308                         </td></tr>\n",
       "\t<tr><td>VEHICLE NON-COMMERCIAL        </td><td> 4156                         </td></tr>\n",
       "\t<tr><td>DEPARTMENT STORE              </td><td> 4049                         </td></tr>\n",
       "\t<tr><td>SCHOOL, PUBLIC, BUILDING      </td><td> 3463                         </td></tr>\n",
       "\t<tr><td>GROCERY FOOD STORE            </td><td> 3078                         </td></tr>\n",
       "\t<tr><td>GAS STATION                   </td><td> 2950                         </td></tr>\n",
       "\t<tr><td>PARK PROPERTY                 </td><td> 2029                         </td></tr>\n",
       "\t<tr><td>BAR OR TAVERN                 </td><td> 1733                         </td></tr>\n",
       "\t<tr><td>CONVENIENCE STORE             </td><td> 1569                         </td></tr>\n",
       "</tbody>\n",
       "</table>\n"
      ],
      "text/latex": [
       "\\begin{tabular}{r|ll}\n",
       " Location.Description & counts\\\\\n",
       "\\hline\n",
       "\t STREET                         & 59363                         \\\\\n",
       "\t RESIDENCE                      & 40786                         \\\\\n",
       "\t APARTMENT                      & 31787                         \\\\\n",
       "\t SIDEWALK                       & 22413                         \\\\\n",
       "\t OTHER                          &  9950                         \\\\\n",
       "\t PARKING LOT/GARAGE(NON.RESID.) &  7840                         \\\\\n",
       "\t SMALL RETAIL STORE             &  5631                         \\\\\n",
       "\t RESTAURANT                     &  5411                         \\\\\n",
       "\t RESIDENTIAL YARD (FRONT/BACK)  &  5397                         \\\\\n",
       "\t ALLEY                          &  5130                         \\\\\n",
       "\t RESIDENCE-GARAGE               &  5031                         \\\\\n",
       "\t RESIDENCE PORCH/HALLWAY        &  4308                         \\\\\n",
       "\t VEHICLE NON-COMMERCIAL         &  4156                         \\\\\n",
       "\t DEPARTMENT STORE               &  4049                         \\\\\n",
       "\t SCHOOL, PUBLIC, BUILDING       &  3463                         \\\\\n",
       "\t GROCERY FOOD STORE             &  3078                         \\\\\n",
       "\t GAS STATION                    &  2950                         \\\\\n",
       "\t PARK PROPERTY                  &  2029                         \\\\\n",
       "\t BAR OR TAVERN                  &  1733                         \\\\\n",
       "\t CONVENIENCE STORE              &  1569                         \\\\\n",
       "\\end{tabular}\n"
      ],
      "text/markdown": [
       "\n",
       "Location.Description | counts | \n",
       "|---|---|---|---|---|---|---|---|---|---|---|---|---|---|---|---|---|---|---|---|\n",
       "| STREET                         | 59363                          | \n",
       "| RESIDENCE                      | 40786                          | \n",
       "| APARTMENT                      | 31787                          | \n",
       "| SIDEWALK                       | 22413                          | \n",
       "| OTHER                          |  9950                          | \n",
       "| PARKING LOT/GARAGE(NON.RESID.) |  7840                          | \n",
       "| SMALL RETAIL STORE             |  5631                          | \n",
       "| RESTAURANT                     |  5411                          | \n",
       "| RESIDENTIAL YARD (FRONT/BACK)  |  5397                          | \n",
       "| ALLEY                          |  5130                          | \n",
       "| RESIDENCE-GARAGE               |  5031                          | \n",
       "| RESIDENCE PORCH/HALLWAY        |  4308                          | \n",
       "| VEHICLE NON-COMMERCIAL         |  4156                          | \n",
       "| DEPARTMENT STORE               |  4049                          | \n",
       "| SCHOOL, PUBLIC, BUILDING       |  3463                          | \n",
       "| GROCERY FOOD STORE             |  3078                          | \n",
       "| GAS STATION                    |  2950                          | \n",
       "| PARK PROPERTY                  |  2029                          | \n",
       "| BAR OR TAVERN                  |  1733                          | \n",
       "| CONVENIENCE STORE              |  1569                          | \n",
       "\n",
       "\n"
      ],
      "text/plain": [
       "   Location.Description           counts\n",
       "1  STREET                         59363 \n",
       "2  RESIDENCE                      40786 \n",
       "3  APARTMENT                      31787 \n",
       "4  SIDEWALK                       22413 \n",
       "5  OTHER                           9950 \n",
       "6  PARKING LOT/GARAGE(NON.RESID.)  7840 \n",
       "7  SMALL RETAIL STORE              5631 \n",
       "8  RESTAURANT                      5411 \n",
       "9  RESIDENTIAL YARD (FRONT/BACK)   5397 \n",
       "10 ALLEY                           5130 \n",
       "11 RESIDENCE-GARAGE                5031 \n",
       "12 RESIDENCE PORCH/HALLWAY         4308 \n",
       "13 VEHICLE NON-COMMERCIAL          4156 \n",
       "14 DEPARTMENT STORE                4049 \n",
       "15 SCHOOL, PUBLIC, BUILDING        3463 \n",
       "16 GROCERY FOOD STORE              3078 \n",
       "17 GAS STATION                     2950 \n",
       "18 PARK PROPERTY                   2029 \n",
       "19 BAR OR TAVERN                   1733 \n",
       "20 CONVENIENCE STORE               1569 "
      ]
     },
     "metadata": {},
     "output_type": "display_data"
    },
    {
     "data": {},
     "metadata": {},
     "output_type": "display_data"
    },
    {
     "data": {
      "image/png": "[encoded data removed]",
      "text/plain": [
       "plot without title"
      ]
     },
     "metadata": {},
     "output_type": "display_data"
    }
   ],
   "source": [
    "(crime_location <- crime %>% \n",
    "  group_by(Location.Description) %>% \n",
    "  summarise(counts=n()) %>%\n",
    "  arrange(desc(counts)) %>% \n",
    "  head(20))\n",
    "\n",
    "crime_loc_plot <- crime_location %>% \n",
    "  head(20)\n",
    "\n",
    "options(repr.plot.width = 7, repr.plot.height = 6)\n",
    "\n",
    "crime_loc_plot %>% \n",
    "  mutate(Location.Description = fct_reorder(Location.Description, counts)) %>%  \n",
    "  ggplot(aes(x=Location.Description, y=counts)) +\n",
    "  geom_bar(stat=\"identity\", fill=\"#800000\") +\n",
    "  theme_bw() +\n",
    "  guides(fill=FALSE) +\n",
    "  theme(axis.line = element_line(colour = \"black\"),\n",
    "    panel.grid.major = element_blank(),\n",
    "    panel.grid.minor = element_blank(),\n",
    "    panel.border = element_blank(),\n",
    "    panel.background = element_blank()) +\n",
    "  labs(title=\"Location of crimes in 2016-2017\", x=\"Location\", y=\"Count\") +\n",
    "  theme(axis.text.x=element_text(angle=90,hjust=1))\n"
   ]
  },
  {
   "cell_type": "markdown",
   "metadata": {},
   "source": [
    "### Analysing the number of crimes and arrests per year"
   ]
  },
  {
   "cell_type": "code",
   "execution_count": 19,
   "metadata": {},
   "outputs": [
    {
     "data": {
      "text/html": [
       "<table>\n",
       "<thead><tr><th scope=col>Year</th><th scope=col>Primary.Type</th><th scope=col>crime_count</th></tr></thead>\n",
       "<tbody>\n",
       "\t<tr><td>2016                            </td><td>ARSON                           </td><td>30693                           </td></tr>\n",
       "\t<tr><td>2016                            </td><td>ASSAULT                         </td><td>18199                           </td></tr>\n",
       "\t<tr><td>2016                            </td><td>CRIMINAL TRESPASS               </td><td> 6209                           </td></tr>\n",
       "\t<tr><td>2016                            </td><td>DECETIVE PRACTICE               </td><td>13511                           </td></tr>\n",
       "\t<tr><td>2016                            </td><td>GAMBLING                        </td><td>  188                           </td></tr>\n",
       "\t<tr><td>2016                            </td><td>HOMICIDE                        </td><td>  749                           </td></tr>\n",
       "\t<tr><td>2016                            </td><td>HUMAN TRAFFICKING               </td><td>    7                           </td></tr>\n",
       "\t<tr><td>2016                            </td><td>INTERFERENCE WITH PUBLIC OFFICER</td><td>  926                           </td></tr>\n",
       "\t<tr><td>2016                            </td><td>KIDNAPPING                      </td><td>  193                           </td></tr>\n",
       "\t<tr><td>2016                            </td><td>LIQUOR LAW VIOLATION            </td><td>  210                           </td></tr>\n",
       "\t<tr><td>2016                            </td><td>NARCOTICS                       </td><td>10668                           </td></tr>\n",
       "\t<tr><td>2016                            </td><td>NON-CRIMINAL                    </td><td>   47                           </td></tr>\n",
       "\t<tr><td>2016                            </td><td>OFFENSE INVOLVING CHILDREN      </td><td> 1953                           </td></tr>\n",
       "\t<tr><td>2016                            </td><td>OTHER OFFENSE                   </td><td>15910                           </td></tr>\n",
       "\t<tr><td>2016                            </td><td>PROSTITUTION                    </td><td>  780                           </td></tr>\n",
       "\t<tr><td>2016                            </td><td>PUBLIC INDECENCY                </td><td> 1589                           </td></tr>\n",
       "\t<tr><td>2016                            </td><td>SEXUAL ASSAULT                  </td><td>50723                           </td></tr>\n",
       "\t<tr><td>2016                            </td><td>STALKING                        </td><td>  188                           </td></tr>\n",
       "\t<tr><td>2016                            </td><td>THEFT                           </td><td>94556                           </td></tr>\n",
       "\t<tr><td>2016                            </td><td>WEAPONS VIOLATION               </td><td> 3433                           </td></tr>\n",
       "\t<tr><td>2017                            </td><td>HOMICIDE                        </td><td>   30                           </td></tr>\n",
       "</tbody>\n",
       "</table>\n"
      ],
      "text/latex": [
       "\\begin{tabular}{r|lll}\n",
       " Year & Primary.Type & crime\\_count\\\\\n",
       "\\hline\n",
       "\t 2016                             & ARSON                            & 30693                           \\\\\n",
       "\t 2016                             & ASSAULT                          & 18199                           \\\\\n",
       "\t 2016                             & CRIMINAL TRESPASS                &  6209                           \\\\\n",
       "\t 2016                             & DECETIVE PRACTICE                & 13511                           \\\\\n",
       "\t 2016                             & GAMBLING                         &   188                           \\\\\n",
       "\t 2016                             & HOMICIDE                         &   749                           \\\\\n",
       "\t 2016                             & HUMAN TRAFFICKING                &     7                           \\\\\n",
       "\t 2016                             & INTERFERENCE WITH PUBLIC OFFICER &   926                           \\\\\n",
       "\t 2016                             & KIDNAPPING                       &   193                           \\\\\n",
       "\t 2016                             & LIQUOR LAW VIOLATION             &   210                           \\\\\n",
       "\t 2016                             & NARCOTICS                        & 10668                           \\\\\n",
       "\t 2016                             & NON-CRIMINAL                     &    47                           \\\\\n",
       "\t 2016                             & OFFENSE INVOLVING CHILDREN       &  1953                           \\\\\n",
       "\t 2016                             & OTHER OFFENSE                    & 15910                           \\\\\n",
       "\t 2016                             & PROSTITUTION                     &   780                           \\\\\n",
       "\t 2016                             & PUBLIC INDECENCY                 &  1589                           \\\\\n",
       "\t 2016                             & SEXUAL ASSAULT                   & 50723                           \\\\\n",
       "\t 2016                             & STALKING                         &   188                           \\\\\n",
       "\t 2016                             & THEFT                            & 94556                           \\\\\n",
       "\t 2016                             & WEAPONS VIOLATION                &  3433                           \\\\\n",
       "\t 2017                             & HOMICIDE                         &    30                           \\\\\n",
       "\\end{tabular}\n"
      ],
      "text/markdown": [
       "\n",
       "Year | Primary.Type | crime_count | \n",
       "|---|---|---|---|---|---|---|---|---|---|---|---|---|---|---|---|---|---|---|---|---|\n",
       "| 2016                             | ARSON                            | 30693                            | \n",
       "| 2016                             | ASSAULT                          | 18199                            | \n",
       "| 2016                             | CRIMINAL TRESPASS                |  6209                            | \n",
       "| 2016                             | DECETIVE PRACTICE                | 13511                            | \n",
       "| 2016                             | GAMBLING                         |   188                            | \n",
       "| 2016                             | HOMICIDE                         |   749                            | \n",
       "| 2016                             | HUMAN TRAFFICKING                |     7                            | \n",
       "| 2016                             | INTERFERENCE WITH PUBLIC OFFICER |   926                            | \n",
       "| 2016                             | KIDNAPPING                       |   193                            | \n",
       "| 2016                             | LIQUOR LAW VIOLATION             |   210                            | \n",
       "| 2016                             | NARCOTICS                        | 10668                            | \n",
       "| 2016                             | NON-CRIMINAL                     |    47                            | \n",
       "| 2016                             | OFFENSE INVOLVING CHILDREN       |  1953                            | \n",
       "| 2016                             | OTHER OFFENSE                    | 15910                            | \n",
       "| 2016                             | PROSTITUTION                     |   780                            | \n",
       "| 2016                             | PUBLIC INDECENCY                 |  1589                            | \n",
       "| 2016                             | SEXUAL ASSAULT                   | 50723                            | \n",
       "| 2016                             | STALKING                         |   188                            | \n",
       "| 2016                             | THEFT                            | 94556                            | \n",
       "| 2016                             | WEAPONS VIOLATION                |  3433                            | \n",
       "| 2017                             | HOMICIDE                         |    30                            | \n",
       "\n",
       "\n"
      ],
      "text/plain": [
       "   Year Primary.Type                     crime_count\n",
       "1  2016 ARSON                            30693      \n",
       "2  2016 ASSAULT                          18199      \n",
       "3  2016 CRIMINAL TRESPASS                 6209      \n",
       "4  2016 DECETIVE PRACTICE                13511      \n",
       "5  2016 GAMBLING                           188      \n",
       "6  2016 HOMICIDE                           749      \n",
       "7  2016 HUMAN TRAFFICKING                    7      \n",
       "8  2016 INTERFERENCE WITH PUBLIC OFFICER   926      \n",
       "9  2016 KIDNAPPING                         193      \n",
       "10 2016 LIQUOR LAW VIOLATION               210      \n",
       "11 2016 NARCOTICS                        10668      \n",
       "12 2016 NON-CRIMINAL                        47      \n",
       "13 2016 OFFENSE INVOLVING CHILDREN        1953      \n",
       "14 2016 OTHER OFFENSE                    15910      \n",
       "15 2016 PROSTITUTION                       780      \n",
       "16 2016 PUBLIC INDECENCY                  1589      \n",
       "17 2016 SEXUAL ASSAULT                   50723      \n",
       "18 2016 STALKING                           188      \n",
       "19 2016 THEFT                            94556      \n",
       "20 2016 WEAPONS VIOLATION                 3433      \n",
       "21 2017 HOMICIDE                            30      "
      ]
     },
     "metadata": {},
     "output_type": "display_data"
    }
   ],
   "source": [
    "# Counting the number of crimes per year\n",
    "(crime_year <- crime %>% \n",
    "  group_by(Year, Primary.Type) %>%\n",
    "  summarise(crime_count=n()))  "
   ]
  },
  {
   "cell_type": "code",
   "execution_count": 20,
   "metadata": {},
   "outputs": [
    {
     "data": {
      "text/html": [
       "<table>\n",
       "<thead><tr><th scope=col>Year</th><th scope=col>Primary.Type</th><th scope=col>arrest_count</th></tr></thead>\n",
       "<tbody>\n",
       "\t<tr><td>2016                            </td><td>ARSON                           </td><td> 1660                           </td></tr>\n",
       "\t<tr><td>2016                            </td><td>ASSAULT                         </td><td> 3413                           </td></tr>\n",
       "\t<tr><td>2016                            </td><td>CRIMINAL TRESPASS               </td><td> 3714                           </td></tr>\n",
       "\t<tr><td>2016                            </td><td>DECETIVE PRACTICE               </td><td>  643                           </td></tr>\n",
       "\t<tr><td>2016                            </td><td>GAMBLING                        </td><td>  188                           </td></tr>\n",
       "\t<tr><td>2016                            </td><td>HOMICIDE                        </td><td>  158                           </td></tr>\n",
       "\t<tr><td>2016                            </td><td>INTERFERENCE WITH PUBLIC OFFICER</td><td>  879                           </td></tr>\n",
       "\t<tr><td>2016                            </td><td>KIDNAPPING                      </td><td>   10                           </td></tr>\n",
       "\t<tr><td>2016                            </td><td>LIQUOR LAW VIOLATION            </td><td>  209                           </td></tr>\n",
       "\t<tr><td>2016                            </td><td>NARCOTICS                       </td><td>10661                           </td></tr>\n",
       "\t<tr><td>2016                            </td><td>NON-CRIMINAL                    </td><td>    4                           </td></tr>\n",
       "\t<tr><td>2016                            </td><td>OFFENSE INVOLVING CHILDREN      </td><td>  232                           </td></tr>\n",
       "\t<tr><td>2016                            </td><td>OTHER OFFENSE                   </td><td> 3280                           </td></tr>\n",
       "\t<tr><td>2016                            </td><td>PROSTITUTION                    </td><td>  780                           </td></tr>\n",
       "\t<tr><td>2016                            </td><td>PUBLIC INDECENCY                </td><td> 1116                           </td></tr>\n",
       "\t<tr><td>2016                            </td><td>SEXUAL ASSAULT                  </td><td>10285                           </td></tr>\n",
       "\t<tr><td>2016                            </td><td>STALKING                        </td><td>   47                           </td></tr>\n",
       "\t<tr><td>2016                            </td><td>THEFT                           </td><td> 8479                           </td></tr>\n",
       "\t<tr><td>2016                            </td><td>WEAPONS VIOLATION               </td><td> 2463                           </td></tr>\n",
       "</tbody>\n",
       "</table>\n"
      ],
      "text/latex": [
       "\\begin{tabular}{r|lll}\n",
       " Year & Primary.Type & arrest\\_count\\\\\n",
       "\\hline\n",
       "\t 2016                             & ARSON                            &  1660                           \\\\\n",
       "\t 2016                             & ASSAULT                          &  3413                           \\\\\n",
       "\t 2016                             & CRIMINAL TRESPASS                &  3714                           \\\\\n",
       "\t 2016                             & DECETIVE PRACTICE                &   643                           \\\\\n",
       "\t 2016                             & GAMBLING                         &   188                           \\\\\n",
       "\t 2016                             & HOMICIDE                         &   158                           \\\\\n",
       "\t 2016                             & INTERFERENCE WITH PUBLIC OFFICER &   879                           \\\\\n",
       "\t 2016                             & KIDNAPPING                       &    10                           \\\\\n",
       "\t 2016                             & LIQUOR LAW VIOLATION             &   209                           \\\\\n",
       "\t 2016                             & NARCOTICS                        & 10661                           \\\\\n",
       "\t 2016                             & NON-CRIMINAL                     &     4                           \\\\\n",
       "\t 2016                             & OFFENSE INVOLVING CHILDREN       &   232                           \\\\\n",
       "\t 2016                             & OTHER OFFENSE                    &  3280                           \\\\\n",
       "\t 2016                             & PROSTITUTION                     &   780                           \\\\\n",
       "\t 2016                             & PUBLIC INDECENCY                 &  1116                           \\\\\n",
       "\t 2016                             & SEXUAL ASSAULT                   & 10285                           \\\\\n",
       "\t 2016                             & STALKING                         &    47                           \\\\\n",
       "\t 2016                             & THEFT                            &  8479                           \\\\\n",
       "\t 2016                             & WEAPONS VIOLATION                &  2463                           \\\\\n",
       "\\end{tabular}\n"
      ],
      "text/markdown": [
       "\n",
       "Year | Primary.Type | arrest_count | \n",
       "|---|---|---|---|---|---|---|---|---|---|---|---|---|---|---|---|---|---|---|\n",
       "| 2016                             | ARSON                            |  1660                            | \n",
       "| 2016                             | ASSAULT                          |  3413                            | \n",
       "| 2016                             | CRIMINAL TRESPASS                |  3714                            | \n",
       "| 2016                             | DECETIVE PRACTICE                |   643                            | \n",
       "| 2016                             | GAMBLING                         |   188                            | \n",
       "| 2016                             | HOMICIDE                         |   158                            | \n",
       "| 2016                             | INTERFERENCE WITH PUBLIC OFFICER |   879                            | \n",
       "| 2016                             | KIDNAPPING                       |    10                            | \n",
       "| 2016                             | LIQUOR LAW VIOLATION             |   209                            | \n",
       "| 2016                             | NARCOTICS                        | 10661                            | \n",
       "| 2016                             | NON-CRIMINAL                     |     4                            | \n",
       "| 2016                             | OFFENSE INVOLVING CHILDREN       |   232                            | \n",
       "| 2016                             | OTHER OFFENSE                    |  3280                            | \n",
       "| 2016                             | PROSTITUTION                     |   780                            | \n",
       "| 2016                             | PUBLIC INDECENCY                 |  1116                            | \n",
       "| 2016                             | SEXUAL ASSAULT                   | 10285                            | \n",
       "| 2016                             | STALKING                         |    47                            | \n",
       "| 2016                             | THEFT                            |  8479                            | \n",
       "| 2016                             | WEAPONS VIOLATION                |  2463                            | \n",
       "\n",
       "\n"
      ],
      "text/plain": [
       "   Year Primary.Type                     arrest_count\n",
       "1  2016 ARSON                             1660       \n",
       "2  2016 ASSAULT                           3413       \n",
       "3  2016 CRIMINAL TRESPASS                 3714       \n",
       "4  2016 DECETIVE PRACTICE                  643       \n",
       "5  2016 GAMBLING                           188       \n",
       "6  2016 HOMICIDE                           158       \n",
       "7  2016 INTERFERENCE WITH PUBLIC OFFICER   879       \n",
       "8  2016 KIDNAPPING                          10       \n",
       "9  2016 LIQUOR LAW VIOLATION               209       \n",
       "10 2016 NARCOTICS                        10661       \n",
       "11 2016 NON-CRIMINAL                         4       \n",
       "12 2016 OFFENSE INVOLVING CHILDREN         232       \n",
       "13 2016 OTHER OFFENSE                     3280       \n",
       "14 2016 PROSTITUTION                       780       \n",
       "15 2016 PUBLIC INDECENCY                  1116       \n",
       "16 2016 SEXUAL ASSAULT                   10285       \n",
       "17 2016 STALKING                            47       \n",
       "18 2016 THEFT                             8479       \n",
       "19 2016 WEAPONS VIOLATION                 2463       "
      ]
     },
     "metadata": {},
     "output_type": "display_data"
    }
   ],
   "source": [
    "# Counting the number of arrests per year\n",
    "(arrest_year <- crime %>% \n",
    "  group_by(Year, Primary.Type) %>%\n",
    "  filter(Arrest==1) %>%  \n",
    "  summarise(arrest_count=n()))"
   ]
  },
  {
   "cell_type": "code",
   "execution_count": 21,
   "metadata": {},
   "outputs": [
    {
     "name": "stderr",
     "output_type": "stream",
     "text": [
      "Joining, by = c(\"Year\", \"Primary.Type\")\n"
     ]
    },
    {
     "data": {
      "text/html": [
       "<table>\n",
       "<thead><tr><th scope=col>Year</th><th scope=col>Primary.Type</th><th scope=col>crime_arrest</th><th scope=col>value</th></tr></thead>\n",
       "<tbody>\n",
       "\t<tr><td>2016                            </td><td>ARSON                           </td><td>arrest_count                    </td><td>1660                            </td></tr>\n",
       "\t<tr><td>2016                            </td><td>ASSAULT                         </td><td>arrest_count                    </td><td>3413                            </td></tr>\n",
       "\t<tr><td>2016                            </td><td>CRIMINAL TRESPASS               </td><td>arrest_count                    </td><td>3714                            </td></tr>\n",
       "\t<tr><td>2016                            </td><td>DECETIVE PRACTICE               </td><td>arrest_count                    </td><td> 643                            </td></tr>\n",
       "\t<tr><td>2016                            </td><td>GAMBLING                        </td><td>arrest_count                    </td><td> 188                            </td></tr>\n",
       "\t<tr><td>2016                            </td><td>HOMICIDE                        </td><td>arrest_count                    </td><td> 158                            </td></tr>\n",
       "\t<tr><td>2016                            </td><td>HUMAN TRAFFICKING               </td><td>arrest_count                    </td><td>  NA                            </td></tr>\n",
       "\t<tr><td>2016                            </td><td>INTERFERENCE WITH PUBLIC OFFICER</td><td>arrest_count                    </td><td> 879                            </td></tr>\n",
       "\t<tr><td>2016                            </td><td>KIDNAPPING                      </td><td>arrest_count                    </td><td>  10                            </td></tr>\n",
       "\t<tr><td>2016                            </td><td>LIQUOR LAW VIOLATION            </td><td>arrest_count                    </td><td> 209                            </td></tr>\n",
       "</tbody>\n",
       "</table>\n"
      ],
      "text/latex": [
       "\\begin{tabular}{r|llll}\n",
       " Year & Primary.Type & crime\\_arrest & value\\\\\n",
       "\\hline\n",
       "\t 2016                             & ARSON                            & arrest\\_count                   & 1660                            \\\\\n",
       "\t 2016                             & ASSAULT                          & arrest\\_count                   & 3413                            \\\\\n",
       "\t 2016                             & CRIMINAL TRESPASS                & arrest\\_count                   & 3714                            \\\\\n",
       "\t 2016                             & DECETIVE PRACTICE                & arrest\\_count                   &  643                            \\\\\n",
       "\t 2016                             & GAMBLING                         & arrest\\_count                   &  188                            \\\\\n",
       "\t 2016                             & HOMICIDE                         & arrest\\_count                   &  158                            \\\\\n",
       "\t 2016                             & HUMAN TRAFFICKING                & arrest\\_count                   &   NA                            \\\\\n",
       "\t 2016                             & INTERFERENCE WITH PUBLIC OFFICER & arrest\\_count                   &  879                            \\\\\n",
       "\t 2016                             & KIDNAPPING                       & arrest\\_count                   &   10                            \\\\\n",
       "\t 2016                             & LIQUOR LAW VIOLATION             & arrest\\_count                   &  209                            \\\\\n",
       "\\end{tabular}\n"
      ],
      "text/markdown": [
       "\n",
       "Year | Primary.Type | crime_arrest | value | \n",
       "|---|---|---|---|---|---|---|---|---|---|\n",
       "| 2016                             | ARSON                            | arrest_count                     | 1660                             | \n",
       "| 2016                             | ASSAULT                          | arrest_count                     | 3413                             | \n",
       "| 2016                             | CRIMINAL TRESPASS                | arrest_count                     | 3714                             | \n",
       "| 2016                             | DECETIVE PRACTICE                | arrest_count                     |  643                             | \n",
       "| 2016                             | GAMBLING                         | arrest_count                     |  188                             | \n",
       "| 2016                             | HOMICIDE                         | arrest_count                     |  158                             | \n",
       "| 2016                             | HUMAN TRAFFICKING                | arrest_count                     |   NA                             | \n",
       "| 2016                             | INTERFERENCE WITH PUBLIC OFFICER | arrest_count                     |  879                             | \n",
       "| 2016                             | KIDNAPPING                       | arrest_count                     |   10                             | \n",
       "| 2016                             | LIQUOR LAW VIOLATION             | arrest_count                     |  209                             | \n",
       "\n",
       "\n"
      ],
      "text/plain": [
       "   Year Primary.Type                     crime_arrest value\n",
       "1  2016 ARSON                            arrest_count 1660 \n",
       "2  2016 ASSAULT                          arrest_count 3413 \n",
       "3  2016 CRIMINAL TRESPASS                arrest_count 3714 \n",
       "4  2016 DECETIVE PRACTICE                arrest_count  643 \n",
       "5  2016 GAMBLING                         arrest_count  188 \n",
       "6  2016 HOMICIDE                         arrest_count  158 \n",
       "7  2016 HUMAN TRAFFICKING                arrest_count   NA \n",
       "8  2016 INTERFERENCE WITH PUBLIC OFFICER arrest_count  879 \n",
       "9  2016 KIDNAPPING                       arrest_count   10 \n",
       "10 2016 LIQUOR LAW VIOLATION             arrest_count  209 "
      ]
     },
     "metadata": {},
     "output_type": "display_data"
    }
   ],
   "source": [
    "# Obtaining the crime count and arrest count for each type of crime per year\n",
    "crime_arrest_year <- left_join(crime_year,arrest_year)\n",
    "crime_arrest_year <- gather(crime_arrest_year, key = \"crime_arrest\", value = \"value\", arrest_count, crime_count)\n",
    "crime_arrest_year %>% head(10)"
   ]
  },
  {
   "cell_type": "code",
   "execution_count": 22,
   "metadata": {},
   "outputs": [
    {
     "name": "stderr",
     "output_type": "stream",
     "text": [
      "Selecting by value\n"
     ]
    },
    {
     "data": {},
     "metadata": {},
     "output_type": "display_data"
    },
    {
     "data": {
      "image/png": "[encoded data removed]",
      "text/plain": [
       "plot without title"
      ]
     },
     "metadata": {},
     "output_type": "display_data"
    }
   ],
   "source": [
    "options(repr.plot.width = 7, repr.plot.height = 6)\n",
    "\n",
    "crime_arrest_year %>% \n",
    "  top_n(35) %>% \n",
    "  ggplot(aes(x=Primary.Type, y=value, fill=crime_arrest)) +\n",
    "  geom_bar(position = \"dodge\", stat=\"identity\") +\n",
    "  theme_bw() +\n",
    "  theme(axis.line = element_line(colour = \"black\"),\n",
    "    panel.grid.major = element_blank(),\n",
    "    panel.grid.minor = element_blank(),\n",
    "    panel.border = element_blank(),\n",
    "    panel.background = element_blank()) +\n",
    "  scale_fill_manual(values=c(\"#0000A0\",\"#800000\")) +\n",
    "  labs(title=\"Number of arrests per crime in 2016\", x=\"Type of Crime\", y=\"Number of arrests\") +\n",
    "  theme(axis.text.x=element_text(angle=90,hjust=1))"
   ]
  },
  {
   "cell_type": "code",
   "execution_count": null,
   "metadata": {},
   "outputs": [],
   "source": []
  }
 ],
 "metadata": {
  "kernelspec": {
   "display_name": "R",
   "language": "R",
   "name": "ir"
  },
  "language_info": {
   "codemirror_mode": "r",
   "file_extension": ".r",
   "mimetype": "text/x-r-source",
   "name": "R",
   "pygments_lexer": "r",
   "version": "3.5.1"
  }
 },
 "nbformat": 4,
 "nbformat_minor": 2
}
